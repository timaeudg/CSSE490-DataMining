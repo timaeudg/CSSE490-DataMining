{
 "metadata": {
  "name": ""
 },
 "nbformat": 3,
 "nbformat_minor": 0,
 "worksheets": [
  {
   "cells": [
    {
     "cell_type": "code",
     "collapsed": false,
     "input": [
      "import pandas as pd\n",
      "import numpy as np\n",
      "import sklearn.cluster\n",
      "import sklearn.preprocessing\n",
      "import pylab as pl"
     ],
     "language": "python",
     "metadata": {},
     "outputs": [],
     "prompt_number": 2
    },
    {
     "cell_type": "code",
     "collapsed": false,
     "input": [
      "stock_prices = pd.read_csv('full_set/sp500hst.txt', header=None, names = ['Date', 'Ticker', 'Open Price', 'High Price', 'Low Price',\n",
      "                                                                          'Closing Price', 'Volume'])"
     ],
     "language": "python",
     "metadata": {},
     "outputs": [],
     "prompt_number": 3
    },
    {
     "cell_type": "code",
     "collapsed": false,
     "input": [
      "price_freq = pd.DataFrame(stock_prices.Ticker.value_counts(), columns = ['Freq'])"
     ],
     "language": "python",
     "metadata": {},
     "outputs": [],
     "prompt_number": 6
    },
    {
     "cell_type": "code",
     "collapsed": false,
     "input": [
      "merged_stocks = pd.merge(stock_prices, price_freq, left_on='Ticker', right_index=True)"
     ],
     "language": "python",
     "metadata": {},
     "outputs": [],
     "prompt_number": 8
    },
    {
     "cell_type": "code",
     "collapsed": false,
     "input": [
      "filtered_stocks = merged_stocks[merged_stocks.Freq == 245]"
     ],
     "language": "python",
     "metadata": {},
     "outputs": [],
     "prompt_number": 10
    },
    {
     "cell_type": "code",
     "collapsed": false,
     "input": [
      "stocks_pivot = filtered_stocks.pivot_table('Closing Price', rows = 'Ticker', cols = 'Date')"
     ],
     "language": "python",
     "metadata": {},
     "outputs": [],
     "prompt_number": 13
    },
    {
     "cell_type": "code",
     "collapsed": false,
     "input": [
      "P = stocks_pivot.values"
     ],
     "language": "python",
     "metadata": {},
     "outputs": [],
     "prompt_number": 15
    },
    {
     "cell_type": "code",
     "collapsed": false,
     "input": [
      "price_difference = P[:,:-1]-P[:,1:]"
     ],
     "language": "python",
     "metadata": {},
     "outputs": [],
     "prompt_number": 17
    },
    {
     "cell_type": "code",
     "collapsed": false,
     "input": [
      "corr_matrix = stocks_pivot.T.corr()"
     ],
     "language": "python",
     "metadata": {},
     "outputs": [],
     "prompt_number": 19
    },
    {
     "cell_type": "code",
     "collapsed": false,
     "input": [
      "standard_P = sklearn.preprocessing.scale(P, axis=1)"
     ],
     "language": "python",
     "metadata": {},
     "outputs": [],
     "prompt_number": 22
    },
    {
     "cell_type": "code",
     "collapsed": false,
     "input": [
      "ward = sklearn.cluster.Ward(n_clusters=100)"
     ],
     "language": "python",
     "metadata": {},
     "outputs": [],
     "prompt_number": 24
    },
    {
     "cell_type": "code",
     "collapsed": false,
     "input": [
      "ward.fit(standard_P)"
     ],
     "language": "python",
     "metadata": {},
     "outputs": [
      {
       "metadata": {},
       "output_type": "pyout",
       "prompt_number": 25,
       "text": [
        "Ward(compute_full_tree='auto', connectivity=None, copy=True,\n",
        "   memory=Memory(cachedir=None), n_clusters=100, n_components=None)"
       ]
      }
     ],
     "prompt_number": 25
    },
    {
     "cell_type": "code",
     "collapsed": false,
     "input": [
      "clusters = pd.DataFrame(np.array([stocks_pivot.index.values, ward.labels_])).T"
     ],
     "language": "python",
     "metadata": {},
     "outputs": [],
     "prompt_number": 27
    },
    {
     "cell_type": "code",
     "collapsed": false,
     "input": [
      "data = np.array([stocks_pivot.index.values, ward.labels_]).T"
     ],
     "language": "python",
     "metadata": {},
     "outputs": [],
     "prompt_number": 29
    },
    {
     "cell_type": "code",
     "collapsed": false,
     "input": [
      "clusters = pd.DataFrame(data, columns=['ticker', 'cluster'])"
     ],
     "language": "python",
     "metadata": {},
     "outputs": [],
     "prompt_number": 30
    },
    {
     "cell_type": "code",
     "collapsed": false,
     "input": [
      "idx = np.argsort(ward.labels_)"
     ],
     "language": "python",
     "metadata": {},
     "outputs": [],
     "prompt_number": 32
    },
    {
     "cell_type": "code",
     "collapsed": false,
     "input": [
      "sorted_corr = corr_matrix.values"
     ],
     "language": "python",
     "metadata": {},
     "outputs": [],
     "prompt_number": 34
    },
    {
     "cell_type": "code",
     "collapsed": false,
     "input": [
      "company_names = pd.read_table('ussyms/ussyms.txt', sep=';', header=None, names = ['ticker', 'company name'])"
     ],
     "language": "python",
     "metadata": {},
     "outputs": [],
     "prompt_number": 36
    },
    {
     "cell_type": "code",
     "collapsed": false,
     "input": [
      "for i in idx:\n",
      "    if sum(company_names.ticker == clusters.ix[i,0])!=0:\n",
      "        print clusters.ix[i,1], company_names[company_names.ticker==clusters.ix[i,0]]['company name'].values[0]"
     ],
     "language": "python",
     "metadata": {},
     "outputs": [
      {
       "output_type": "stream",
       "stream": "stdout",
       "text": [
        " 0  Meredith Corporation\n",
        "0  Gannett Co., Inc.\n",
        "0  Genworth Financial Inc\n",
        "0  ConAgra Foods, Inc.\n",
        "0  Teradyne, Inc.\n",
        "1  Noble Energy Inc.\n",
        "1  Apache Corporation\n",
        "1  National-Oilwell, Inc.\n",
        "1  Hess Corporation\n",
        "1  Schlumberger N.V.\n",
        "1"
       ]
      },
      {
       "output_type": "stream",
       "stream": "stdout",
       "text": [
        "  Cooper Cameron Corporation\n",
        "2  Altria Group\n",
        "2  DTE Energy Company\n",
        "2  Sysco Corporation\n",
        "2  Dominion Resources, Inc.\n",
        "2  McDonald's Corporation\n",
        "2  Deere & Company\n",
        "2  McCormick & Company, Incorporated\n",
        "2  Sara Lee Corporation\n",
        "2 "
       ]
      },
      {
       "output_type": "stream",
       "stream": "stdout",
       "text": [
        " Ventas, Inc.\n",
        "2  Clorox Company (The)\n",
        "2  Northeast Utilities\n",
        "2  Hormel Foods Corporation\n",
        "2  Wisconsin Energy Corporation\n",
        "3  Public Service Enterprise Group Incorporated\n",
        "3  PROGRESS ENERGY INC\n",
        "4  Ryder System, Inc.\n",
        "4  Legg Mason, Inc.\n",
        "4  Newell Rubbermaid Inc.\n",
        "5"
       ]
      },
      {
       "output_type": "stream",
       "stream": "stdout",
       "text": [
        "  Kimberly-Clark Corporation\n",
        "5  Eli Lilly and Company\n",
        "5  CenturyTel, Inc.\n",
        "6  First Tennessee National Corporation\n",
        "6  Weyerhaeuser Company\n",
        "6  Office Depot, Inc.\n",
        "6  LSI Logic Corporation\n",
        "6  Masco Corporation\n",
        "7  ProLogis\n",
        "7  Meadwestvaco Corporation\n",
        "7"
       ]
      },
      {
       "output_type": "stream",
       "stream": "stdout",
       "text": [
        "  Mastercard Incorporated\n",
        "7  International Paper Company\n",
        "7  Hewlett-Packard Company\n",
        "8  AutoZone, Inc.\n",
        "8  EQUITY RESIDENTIAL\n",
        "8  El Paso Corporation\n",
        "8  Hasbro, Inc.\n",
        "8  EMC Corporation\n",
        "8  Apartment Investment and Management Company\n",
        "8"
       ]
      },
      {
       "output_type": "stream",
       "stream": "stdout",
       "text": [
        "  Assurant, Inc.\n",
        "8  Salesforce.com Inc\n",
        "8  Family Dollar Stores, Inc.\n",
        "8  TIME WARNER CABLE INC\n",
        "8  Cummins Inc.\n",
        "8  Hershey Foods Corporation\n",
        "8  M&T Bank Corporation\n",
        "8  Titanium Metals Corporation\n",
        "8  AvalonBay Communities, Inc.\n",
        "8 "
       ]
      },
      {
       "output_type": "stream",
       "stream": "stdout",
       "text": [
        " Qwest Communications International Inc.\n",
        "9  Eastman Chemical Company\n",
        "9  Rockwell Collins, Inc.\n",
        "9  Northrop Grumman Corporation\n",
        "9  FedEx Corporation\n",
        "9  Polo Ralph Lauren Corporation\n",
        "9  Precision Castparts Corporation\n",
        "9  Textron Inc.\n",
        "9  AMERIPRISE FINANCIAL SERVICES, INC.\n",
        "9  Tiffany & Co.\n",
        "10"
       ]
      },
      {
       "output_type": "stream",
       "stream": "stdout",
       "text": [
        "  Constellation Brands, Inc.\n",
        "10  CONOCOPHILLIPS\n",
        "10  Time Warner Inc.\n",
        "11  Pactiv Corporation\n",
        "11  Sunoco, Inc.\n",
        "11  AutoNation, Inc.\n",
        "12  McKesson Corporation\n",
        "12  Intercontinental Exchange, Inc.\n",
        "13  Illinois Tool Works Inc.\n",
        "13 "
       ]
      },
      {
       "output_type": "stream",
       "stream": "stdout",
       "text": [
        " ChevronTexaco Corporation\n",
        "13  Avery Dennison Corporation\n",
        "14  HOSPIRA INC\n",
        "14  DaVita Inc.\n",
        "14  Laboratory Corporation of America Holdings\n",
        "14  Cardinal Health, Inc.\n",
        "14  Radioshack Corporation\n",
        "15  Rowan Companies, Inc.\n",
        "15  XL CAPITAL LIMITED\n",
        "15  FMC Technologies, Inc.\n",
        "15 "
       ]
      },
      {
       "output_type": "stream",
       "stream": "stdout",
       "text": [
        " Abercrombie & Fitch Company\n",
        "16  H.J. Heinz Company\n",
        "16  Varian Medical Systems, Inc.\n",
        "16  Emerson Electric Company\n",
        "16  Goodrich Corporation (The)\n",
        "16  Wyndham Worldwide Corp\n",
        "16  Ford Motor Credit Company\n",
        "16  Estee Lauder Companies, Inc. (The)\n",
        "16  Dover Corporation\n",
        "16  Kraft Foods Inc.\n",
        "16 "
       ]
      },
      {
       "output_type": "stream",
       "stream": "stdout",
       "text": [
        " Big Lots, Inc.\n",
        "16  Snap-On Incorporated\n",
        "16  Stanley Works (The)\n",
        "16  Boeing Company (The)\n",
        "16  ROCKWELL AUTOMATION INC\n",
        "16  WPS Resources Corporation\n",
        "16  Allegheny Technologies Incorporated\n",
        "16  Southwest Airlines Company\n",
        "17  Merck & Company, Inc.\n",
        "17  J.M. Smucker Company (The)\n",
        "17 "
       ]
      },
      {
       "output_type": "stream",
       "stream": "stdout",
       "text": [
        " CenterPoint Energy, Inc (Holding Co)\n",
        "17  American Electric Power Company, Inc.\n",
        "17  Potomac Electric Power Company\n",
        "18  Parker-Hannifin Corporation\n",
        "18  Prudential Financial Inc\n",
        "18  Regions Financing Tr I\n",
        "18  Xerox Corporation\n",
        "18  Kimco Realty Corporation\n",
        "18  United Parcel Service, Inc.\n",
        "18  Honeywell International Inc.\n",
        "18 "
       ]
      },
      {
       "output_type": "stream",
       "stream": "stdout",
       "text": [
        " SunTrust Banks, Inc.\n",
        "18  Torchmark Corporation\n",
        "18  Target Corporation\n",
        "18  V.F. Corporation\n",
        "19  Williams Companies, Inc. (The)\n",
        "19  Jabil Circuit, Inc.\n",
        "19  New York Times Company (The)\n",
        "19  Zimmer Holdings, Inc.\n",
        "19  Dow Chemical Company (The)\n",
        "20 "
       ]
      },
      {
       "output_type": "stream",
       "stream": "stdout",
       "text": [
        " Praxair, Inc.\n",
        "21  American Express Company\n",
        "21  Harris Corporation\n",
        "21  Corning Incorporated\n",
        "21  United Technologies Corporation\n",
        "21  Advanced Micro Devices, Inc.\n",
        "21  Washington Mutual, Inc.\n",
        "21  Plum Creek Timber Company, Inc.\n",
        "21  SLM Corporation\n",
        "22  Forest Laboratories, Inc.\n",
        "22"
       ]
      },
      {
       "output_type": "stream",
       "stream": "stdout",
       "text": [
        "  Monsanto Company\n",
        "22  PPL Corporation\n",
        "23  Jacobs Engineering Group Inc.\n",
        "23  Principal Financial Group Inc\n",
        "23  Washington Post Company (The)\n",
        "24  Goodyear Tire & Rubber Company (The)\n",
        "24  FirstEnergy Corporation\n",
        "24  Boston Scientific Corporation\n",
        "24  Aes Trust\n",
        "24  Exelon Corporation\n",
        "25 "
       ]
      },
      {
       "output_type": "stream",
       "stream": "stdout",
       "text": [
        " Sprint  Nextel Corporation\n",
        "25  Fidelity National Information Services, Inc.\n",
        "25  MetroPCS Communications, Inc.\n",
        "26  Aetna Inc.\n",
        "26  CIGNA Corporation\n",
        "26  WellPoint Health Networks Inc.\n",
        "26  Coventry Health Care, Inc.\n",
        "27  Stilwell Financial Inc.\n",
        "27  ITT Industries, Inc.\n",
        "27  CA Inc.\n",
        "27"
       ]
      },
      {
       "output_type": "stream",
       "stream": "stdout",
       "text": [
        "  SuperValu Inc.\n",
        "27  Anadarko Petroleum Corporation\n",
        "28  Equifax, Inc.\n",
        "28  Pall Corporation\n",
        "28  Spectra Energy Corp\n",
        "28  AFLAC Incorporated\n",
        "28  Johnson Controls, Inc.\n",
        "29  Entergy Corporation\n",
        "29  Ameren Corporation\n",
        "29  Edison International\n",
        "30"
       ]
      },
      {
       "output_type": "stream",
       "stream": "stdout",
       "text": [
        "  PerkinElmer, Inc.\n",
        "30  Lowe's Companies, Inc.\n",
        "30  Nordstrom, Inc.\n",
        "30  Constellation Energy Group, Inc.\n",
        "30  Agilent Technologies, Inc.\n",
        "30  Home Depot, Inc. (The)\n",
        "31  Chesapeake Energy Corporation\n",
        "31  Range Resources Corporation\n",
        "32  Coca-Cola Company (The)\n",
        "32  Freeport-McMoRan Copper & Gold, Inc.\n",
        "32 "
       ]
      },
      {
       "output_type": "stream",
       "stream": "stdout",
       "text": [
        " Abbott Laboratories\n",
        "33  Omnicom Group Inc.\n",
        "33  Harley-Davidson, Inc.\n",
        "34  Progressive Corporation (The)\n",
        "34  Marriot International\n",
        "34  Starwood Hotels & Resorts Worldwide, Inc.\n",
        "34  Yum! Brands, Inc.\n",
        "34  CB Richard Ellis Group Inc\n",
        "34  Host Marriott Financial Trust\n",
        "34  TJX Companies, Inc. (The)\n",
        "34 "
       ]
      },
      {
       "output_type": "stream",
       "stream": "stdout",
       "text": [
        " Sherwin-Williams Company (The)\n",
        "35  C.R. Bard, Inc.\n",
        "35  St. Jude Medical, Inc.\n",
        "36  Genuine Parts Company\n",
        "36  Public Storage, Inc.\n",
        "36  Coca-Cola Enterprises, Inc.\n",
        "36  Boston Properties, Inc.\n",
        "36  Vornado Realty Trust\n",
        "36  Simon Property Group, Inc.\n",
        "36  E.I. du Pont de Nemours and Company\n",
        "36 "
       ]
      },
      {
       "output_type": "stream",
       "stream": "stdout",
       "text": [
        " Interpublic Group of Companies, Inc. (The)\n",
        "36  PPG Industries, Inc.\n",
        "37  Motorola, Inc.\n",
        "37  Molson Coors Brewing  Company\n",
        "38  Avon Products, Inc.\n",
        "38  Networks Associates, Inc.\n",
        "38  Goldman Sachs Group, Inc. (The)\n",
        "38  Morgan Stanley\n",
        "38  Exxon Mobil Corporation\n",
        "39  Wal-Mart Stores, Inc.\n",
        "39 "
       ]
      },
      {
       "output_type": "stream",
       "stream": "stdout",
       "text": [
        " JOHNSON & JOHNSON\n",
        "39  Medtronic, Inc.\n",
        "39  Massey Energy Company\n",
        "39  Becton, Dickinson and Company\n",
        "40  Dun & Bradstreet Corporation (The)\n",
        "40  Invesco Plc\n",
        "40  Total System Services, Inc.\n",
        "40  Western Union Company (The)\n",
        "40  Air Products and Chemicals, Inc.\n",
        "41  Texas Instruments Incorporated\n",
        "41"
       ]
      },
      {
       "output_type": "stream",
       "stream": "stdout",
       "text": [
        "  Analog Devices, Inc.\n",
        "42  Bank of America Corporation\n",
        "42  CVS Corporation\n",
        "42  Iron Mountain Incorporated\n",
        "43  Kellogg Company\n",
        "43  Procter & Gamble Company (The)\n",
        "43  Colgate-Palmolive Company\n",
        "44  King Pharmaceuticals, Inc.\n",
        "44  CF Industries Holdings, Inc.\n",
        "44  AK Steel Holding Corporation\n",
        "44  Baxter International Inc.\n",
        "45"
       ]
      },
      {
       "output_type": "stream",
       "stream": "stdout",
       "text": [
        "  CBS Corporation\n",
        "45  PNC Bank Corp.\n",
        "45  Internationa Flavors & Fragrances, Inc.\n",
        "45  Norfolk Souther Corporation\n",
        "45  Walt Disney Company (The)\n",
        "45  Nike, Inc.\n",
        "45  CSX Corporation\n",
        "45  Waters Corporation\n",
        "45  Coach, Inc.\n",
        "45  Capital One Financial Corporation\n",
        "45 "
       ]
      },
      {
       "output_type": "stream",
       "stream": "stdout",
       "text": [
        " Union Pacific Corporation\n",
        "46  BB&T Corporation\n",
        "46  Fortune Brands, Inc.\n",
        "46  General Electric Company\n",
        "46  Lockheed Martin Corporation\n",
        "46  Carnival Corporation\n",
        "47  Federated Investors, Inc.\n",
        "47  Dean Foods Company\n",
        "47  Walgreen Company\n",
        "47  Diamond Offshore Drilling, Inc.\n",
        "48 "
       ]
      },
      {
       "output_type": "stream",
       "stream": "stdout",
       "text": [
        " Citigroup Inc.\n",
        "48  American International Group, Inc.\n",
        "49  Archer-Daniels-Midland Company\n",
        "49  SEMPRA ENERGY\n",
        "50  PITNEY BOWES INC\n",
        "51  St. Paul Companies, Inc. (The)\n",
        "52  Caterpillar, Inc.\n",
        "52  Republic Services, Inc.\n",
        "52  Health Care Property Investors, Inc.\n",
        "52  Southern Company (The)\n",
        "53 "
       ]
      },
      {
       "output_type": "stream",
       "stream": "stdout",
       "text": [
        " Murphy Oil Corporation\n",
        "53  Gamestop Corporation\n",
        "54  Tesoro Petroleum Corporation\n",
        "54  Allegheny Energy, Inc.\n",
        "55  International Game Technology\n",
        "55  Vulcan Materials Company\n",
        "56  UnumProvident Corporation\n",
        "56  Marshall & Ilsley Corporation\n",
        "56  NYSE Group, Inc.\n",
        "56  MetLife, Inc.\n",
        "56 "
       ]
      },
      {
       "output_type": "stream",
       "stream": "stdout",
       "text": [
        " Denbury Resources, Inc. (Holding Company)\n",
        "57  Halliburton Company\n",
        "57  Peabody Energy Corporation\n",
        "58  Quanta Services, Inc.\n",
        "59  Kroger Company (The)\n",
        "60  Best Buy Co., Inc.\n",
        "60  Gap, Inc. (The)\n",
        "61  International Business Machines Corporation\n",
        "61  Amphenol Corporation\n",
        "61  Bemis Company, Inc.\n",
        "61"
       ]
      },
      {
       "output_type": "stream",
       "stream": "stdout",
       "text": [
        "  Sealed Air Corporation\n",
        "62  General Dynamics Corporation\n",
        "62  Raytheon Company\n",
        "62  Stryker Corporation\n",
        "62  L-3 Communications Holdings, Inc.\n",
        "62  DeVry Inc.\n",
        "63  Comerica Incorporated\n",
        "63  KeyCorp\n",
        "63  Tyson Foods, Inc.\n",
        "63  Lexmark International, Inc.\n",
        "63 "
       ]
      },
      {
       "output_type": "stream",
       "stream": "stdout",
       "text": [
        " Darden Restaurants, Inc.\n",
        "63  Limited Brands, Inc.\n",
        "63  Smith International, Inc.\n",
        "64  National Semiconductor Corporation\n",
        "65  Ball Corporation\n",
        "65  Chubb Corporation (The)\n",
        "66  H&R Block, Inc.\n",
        "66  Pfizer, Inc.\n",
        "67  Bristol-Myers Squibb Company\n",
        "67  Allergan, Inc.\n",
        "68"
       ]
      },
      {
       "output_type": "stream",
       "stream": "stdout",
       "text": [
        "  Leggett & Platt, Incorporated\n",
        "68  Whirlpool Corporation\n",
        "68  Thermo Fisher Scientific Inc\n",
        "69  Humana Inc.\n",
        "69  UnitedHealth Group Incorporated\n",
        "70  Marathon Oil Corporation\n",
        "71  Moody's Corporation\n",
        "71  McGraw-Hill Companies, Inc. (The)\n",
        "72  Pacific Gas & Electric Co.\n",
        "72  Duke Energy Corporation\n",
        "73 "
       ]
      },
      {
       "output_type": "stream",
       "stream": "stdout",
       "text": [
        " Lennar Corporation\n",
        "73  Eastman Kodak Company\n",
        "74  Robert Half International Inc.\n",
        "74  USX Corporation\n",
        "75  Ecolab Inc.\n",
        "76  Watson Pharmaceuticals, Inc.\n",
        "76  EOG Resources, Inc.\n",
        "76  AmerisourceBergen Corporation (Holding Co)\n",
        "76  Pioneer Natural Resources Company\n",
        "77  Fluor Corporation\n",
        "78  3M Company\n",
        "78"
       ]
      },
      {
       "output_type": "stream",
       "stream": "stdout",
       "text": [
        "  Xcel Energy Inc.\n",
        "78  CMS Energy Corporation\n",
        "78  Northern Indiana Public Service Company\n",
        "78  Nicor Inc.\n",
        "78  REYNOLDS AMERICAN INC\n",
        "78  Consolidated Edison, Inc.\n",
        "78  SCANA Corporation\n",
        "78  Pinnacle West Capital Corporation\n",
        "78  TECO Energy, Inc.\n",
        "79  Danaher Corporation\n",
        "79 "
       ]
      },
      {
       "output_type": "stream",
       "stream": "stdout",
       "text": [
        " General Mills, Inc.\n",
        "80  Occidental Petroleum Corporation\n",
        "81  Flowserve Corporation\n",
        "81  Franklin Resources, Inc.\n",
        "82  J P Morgan Chase & Co\n",
        "82  Owens-Illinois, Inc.\n",
        "82  J.C. Penney Company, Inc. Holding Company\n",
        "82  Kohl's Corporation\n",
        "83  Health Care REIT, Inc.\n",
        "84  Hartford Financial Services Group, Inc. (The)\n",
        "84 "
       ]
      },
      {
       "output_type": "stream",
       "stream": "stdout",
       "text": [
        " Tenet Healthcare Corporation\n",
        "85  Nucor Corporation\n",
        "85  Leucadia National Corporation\n",
        "85  Bank of New York Company, Inc. (The)\n",
        "86  CONSOL Energy Inc.\n",
        "86  Equitable Resources, Inc.\n",
        "86  Cabot Oil & Gas Corporation\n",
        "86  Alcoa Inc.\n",
        "87  Campbell Soup Company\n",
        "87  Newmont Mining Corporation (Holding Company)\n",
        "88 "
       ]
      },
      {
       "output_type": "stream",
       "stream": "stdout",
       "text": [
        " AT&T Inc.\n",
        "88  Verizon Communications Inc.\n",
        "89  Lincoln National Corporation\n",
        "89  Wells Fargo & Company\n",
        "89  Allstate Corporation (The)\n",
        "90  Marsh & McLennan Companies, Inc.\n",
        "91  Baker Hughes Incorporated\n",
        "92  Nabors Industries, Inc.\n",
        "92  Southwestern Energy Company\n",
        "92  Devon Energy Corporation\n",
        "93 "
       ]
      },
      {
       "output_type": "stream",
       "stream": "stdout",
       "text": [
        " U.S. Bancorp\n",
        "93  Safeway Inc.\n",
        "93  Harman International Industries, Incorporated\n",
        "94  MEMC Electronic Materials, Inc.\n",
        "94  State Street Corp\n",
        "95  D.R. Horton, Inc.\n",
        "95  Pulte Homes, Inc.\n",
        "96  Red Hat, Inc.\n",
        "96  American Tower Corporation\n",
        "97  Valero Energy Corporation\n",
        "98 "
       ]
      },
      {
       "output_type": "stream",
       "stream": "stdout",
       "text": [
        " Pepsico, Inc.\n",
        "98  W.W. Grainger, Inc.\n",
        "98  Eaton Corporation\n",
        "99  Computer Sciences Corporation\n",
        "99  MedcoHealth Solutions Inc\n",
        "99  Quest Diagnostics Incorporated\n",
        "99  Western Digital Corporation\n"
       ]
      }
     ],
     "prompt_number": 48
    },
    {
     "cell_type": "code",
     "collapsed": false,
     "input": [],
     "language": "python",
     "metadata": {},
     "outputs": []
    }
   ],
   "metadata": {}
  }
 ]
}